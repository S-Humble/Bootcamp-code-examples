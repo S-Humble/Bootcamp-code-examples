{
 "cells": [
  {
   "cell_type": "code",
   "execution_count": 2,
   "metadata": {
    "id": "h0LVvvnfJsg5"
   },
   "outputs": [],
   "source": [
    "# Import pandas\n",
    "import pandas as pd\n"
   ]
  },
  {
   "cell_type": "code",
   "execution_count": 3,
   "metadata": {
    "id": "rv2oLRnPK36J"
   },
   "outputs": [
    {
     "name": "stdout",
     "output_type": "stream",
     "text": [
      "Index(['Balance', 'Income', 'Limit', 'Rating', 'Cards', 'Age', 'Education',\n",
      "       'Gender', 'Student', 'Married', 'Ethnicity'],\n",
      "      dtype='object')\n"
     ]
    }
   ],
   "source": [
    "# Create a DataFrame with balance.txt\n",
    "df = pd.read_csv('balance.txt', sep='\\s+') #Instead of delim_whitespace - Adds a white space between columns\n",
    "print(df.columns)"
   ]
  },
  {
   "cell_type": "code",
   "execution_count": 25,
   "metadata": {},
   "outputs": [
    {
     "name": "stdout",
     "output_type": "stream",
     "text": [
      "Ethnicity\n",
      "African American    47.682101\n",
      "Asian               44.187833\n",
      "Caucasian           44.521945\n",
      "Name: Income, dtype: float64\n"
     ]
    }
   ],
   "source": [
    "#Income based on ethnicity\n",
    "print(df.groupby('Ethnicity') ['Income'].mean(numeric_only=True))\n",
    "#groupby() function used to split the dataframe by 'Ethnicity' to give three distinct groups. \n",
    "#['Income'].mean() calculates the mean income for each of the individual ethnicity groups. \n",
    "#(numeric_only=True) ensure that only values that include numbers is included in the calculation "
   ]
  },
  {
   "cell_type": "code",
   "execution_count": 5,
   "metadata": {},
   "outputs": [
    {
     "name": "stdout",
     "output_type": "stream",
     "text": [
      "Married\n",
      "No     43.641090\n",
      "Yes    46.217082\n",
      "Name: Income, dtype: float64\n"
     ]
    }
   ],
   "source": [
    "#On average, do married or single people have a higher balance?\n",
    "print(df.groupby('Married') ['Income'].mean(numeric_only=True))\n",
    "#The higher average balance is found with married people. "
   ]
  },
  {
   "cell_type": "code",
   "execution_count": 14,
   "metadata": {},
   "outputs": [
    {
     "name": "stdout",
     "output_type": "stream",
     "text": [
      "The highest income in the data set is: $ 186.634\n",
      "The lowest income in the data set is: $ 10.354\n"
     ]
    }
   ],
   "source": [
    "#What is the highest income in our dataset?\n",
    "print (\"The highest income in the data set is:\", \"$\", df.loc[:, 'Income'].max())\n",
    "#df.loc[] accesses all rows and columns in the dataframe\n",
    "#df.loc[: , 'Income']  -  ':' selects all rows, 'Income' selects the Income collumn\n",
    "#.max() selects the maxiumum value in the dataset\n",
    "\n",
    "\n",
    "#What is the lowest income in our dataset?\n",
    "print (\"The lowest income in the data set is:\", \"$\", df.loc[:, 'Income'].min())\n",
    "\n",
    "#Can use 'print (df.max())' / 'print(df.min())' To identify the largest values across all columns in teh dataframe to double ckeck"
   ]
  },
  {
   "cell_type": "code",
   "execution_count": 15,
   "metadata": {},
   "outputs": [
    {
     "name": "stdout",
     "output_type": "stream",
     "text": [
      "The total number of cards is: 1183\n"
     ]
    }
   ],
   "source": [
    "#How many cards do we have recorded in our dataset? (Hint: use `sum()`)\n",
    "print (\"The total number of cards is:\", df.loc[:, 'Cards'].sum())"
   ]
  },
  {
   "cell_type": "code",
   "execution_count": 27,
   "metadata": {},
   "outputs": [
    {
     "name": "stdout",
     "output_type": "stream",
     "text": [
      "400\n",
      "The number of females in the dat set is: 207\n",
      "The number of males in the dat set is: 193\n"
     ]
    }
   ],
   "source": [
    "#How many females do we have information for vs how many males? \n",
    "print (df.loc[:, 'Gender'].count()) # Identify how many instances of Gender are present\n",
    "print (\"The number of females in the dat set is:\", df[df.Gender == 'Female'].loc[:, 'Gender'].count())\n",
    "print (\"The number of males in the dat set is:\", df[df.Gender == 'Male'].loc[:, 'Gender'].count())\n"
   ]
  }
 ],
 "metadata": {
  "colab": {
   "provenance": []
  },
  "kernelspec": {
   "display_name": "Python 3 (ipykernel)",
   "language": "python",
   "name": "python3"
  },
  "language_info": {
   "codemirror_mode": {
    "name": "ipython",
    "version": 3
   },
   "file_extension": ".py",
   "mimetype": "text/x-python",
   "name": "python",
   "nbconvert_exporter": "python",
   "pygments_lexer": "ipython3",
   "version": "3.10.7"
  }
 },
 "nbformat": 4,
 "nbformat_minor": 4
}
