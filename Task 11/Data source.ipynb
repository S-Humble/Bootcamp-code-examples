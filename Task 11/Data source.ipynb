{
 "cells": [
  {
   "cell_type": "code",
   "execution_count": 27,
   "id": "abc92208-d066-474b-9b55-f3429503d1fe",
   "metadata": {},
   "outputs": [
    {
     "name": "stdout",
     "output_type": "stream",
     "text": [
      "   Limit  Rating\n",
      "0   3606     283\n",
      "1   6645     483\n",
      "2   7075     514\n",
      "3   9504     681\n",
      "4   4897     357\n"
     ]
    }
   ],
   "source": [
    "import pandas as pd\n",
    "df = pd.read_csv('balance.txt',sep=' ')\n",
    "\n",
    "# Select the 'Limit' and 'Rating' columns of the first five observations\n",
    "df_selected = df[['Limit', 'Rating']]\n",
    "print (df_selected.head())"
   ]
  },
  {
   "cell_type": "code",
   "execution_count": 28,
   "id": "9dec0ec1-dfed-4d64-8a09-743d5e9430a4",
   "metadata": {},
   "outputs": [
    {
     "name": "stdout",
     "output_type": "stream",
     "text": [
      "    Limit  Rating\n",
      "2    7075     514\n",
      "5    8047     569\n",
      "10   8117     589\n",
      "20   2860     235\n",
      "29   5611     411\n"
     ]
    }
   ],
   "source": [
    "# Select the first five observations with 4 cards\n",
    "df_fourcards = df_selected[df['Cards'] == 4].head() # \n",
    "print (df_fourcards)"
   ]
  },
  {
   "cell_type": "code",
   "execution_count": 52,
   "id": "a48b436e-3dc0-4b2a-adc8-aa968eabc13a",
   "metadata": {},
   "outputs": [
    {
     "name": "stdout",
     "output_type": "stream",
     "text": [
      "       Balance   Income  Limit  Rating  Cards  Age  Education  Gender Student  \\\n",
      "60   13.297283   35.510   5198     364      2   35         20  Female      No   \n",
      "51   13.010768   39.705   3969     301      2   27         20    Male      No   \n",
      "378  10.140785   19.349   4941     366      1   33         19    Male      No   \n",
      "247  13.774598   36.364   2220     188      3   50         19    Male      No   \n",
      "238  11.079748   26.532   2910     236      6   58         19  Female      No   \n",
      "..         ...      ...    ...     ...    ...  ...        ...     ...     ...   \n",
      "284   8.298482   14.711   2047     167      2   67          6    Male      No   \n",
      "368  19.555838   89.000   5759     440      3   37          6  Female      No   \n",
      "224  25.262836  121.709   7818     584      4   50          6    Male      No   \n",
      "254  13.997826   36.508   6386     469      4   79          6  Female      No   \n",
      "30   10.201523   34.142   5666     413      4   47          5  Female      No   \n",
      "\n",
      "    Married         Ethnicity  \n",
      "60       No             Asian  \n",
      "51      Yes  African American  \n",
      "378     Yes         Caucasian  \n",
      "247      No         Caucasian  \n",
      "238     Yes         Caucasian  \n",
      "..      ...               ...  \n",
      "284     Yes         Caucasian  \n",
      "368      No         Caucasian  \n",
      "224     Yes         Caucasian  \n",
      "254     Yes         Caucasian  \n",
      "30      Yes         Caucasian  \n",
      "\n",
      "[400 rows x 11 columns]\n"
     ]
    }
   ],
   "source": [
    "# Sort the observations by 'Education'. Show users with a high education value first.\n",
    "df_education = df.sort_values(by= 'Education', ascending = False)\n",
    "print (df_education)"
   ]
  },
  {
   "cell_type": "code",
   "execution_count": null,
   "id": "f279ed53-6031-4547-9719-2d7b81bb9318",
   "metadata": {},
   "outputs": [],
   "source": [
    "#This selects all rows and columns in the data frame\n",
    "df.iloc[:,:]\n"
   ]
  },
  {
   "cell_type": "code",
   "execution_count": null,
   "id": "487df3da-78b7-42bf-9e7b-42c227103f85",
   "metadata": {},
   "outputs": [],
   "source": [
    "# This selects the 6th row (0 index, 5) to end row and the 6th collumn to end collumn\n",
    "df.iloc[5:,5:]\n"
   ]
  },
  {
   "cell_type": "code",
   "execution_count": null,
   "id": "bab1856e-90c4-4813-897c-26f610ae8c9f",
   "metadata": {},
   "outputs": [],
   "source": [
    "#This selects all of the rows and the first collumn starting from 0 column (0 index notation)\n",
    "df.iloc[:,0]\n"
   ]
  },
  {
   "cell_type": "code",
   "execution_count": null,
   "id": "176a7165-d18a-4431-8d6a-d5c12c1de63e",
   "metadata": {},
   "outputs": [],
   "source": [
    "# Selects the tenth row (Index 9) and all of the columns from the dataframe\n",
    "df.iloc[9,:]"
   ]
  }
 ],
 "metadata": {
  "kernelspec": {
   "display_name": "Python 3 (ipykernel)",
   "language": "python",
   "name": "python3"
  },
  "language_info": {
   "codemirror_mode": {
    "name": "ipython",
    "version": 3
   },
   "file_extension": ".py",
   "mimetype": "text/x-python",
   "name": "python",
   "nbconvert_exporter": "python",
   "pygments_lexer": "ipython3",
   "version": "3.10.7"
  }
 },
 "nbformat": 4,
 "nbformat_minor": 5
}
